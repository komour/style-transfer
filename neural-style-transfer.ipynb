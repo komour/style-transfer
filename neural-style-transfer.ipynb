{
 "cells": [
  {
   "cell_type": "code",
   "execution_count": 1,
   "metadata": {
    "collapsed": true,
    "pycharm": {
     "name": "#%%\n"
    }
   },
   "outputs": [],
   "source": [
    "import torch\n",
    "import torch.nn as nn\n",
    "import torch.optim as optim\n",
    "from torchvision import models, transforms\n",
    "from torchsummary import summary\n",
    "\n",
    "import numpy as np\n",
    "import matplotlib.pyplot as plt\n",
    "import cv2\n",
    "\n",
    "import copy\n",
    "\n",
    "from fastprogress.fastprogress import progress_bar"
   ]
  },
  {
   "cell_type": "markdown",
   "source": [
    "### set up config"
   ],
   "metadata": {
    "collapsed": false,
    "pycharm": {
     "name": "#%% md\n"
    }
   }
  },
  {
   "cell_type": "code",
   "execution_count": 2,
   "outputs": [],
   "source": [
    "OPTIMIZER = 'adam'\n",
    "lr = 1                   # small LR requires much more iterations, large LR may not converge enough\n",
    "alpha = 1e-7             # content weight\n",
    "beta = 1e-5              # style weight\n",
    "iter_cnt = 8000          # number of iterations\n",
    "mstone_every = 800       # show result every \"mstone_every\" iters\n",
    "\n",
    "# Image Files\n",
    "content_img_path = 'images/content_s.png'\n",
    "style_img_path = 'images/style_01.png'\n",
    "\n",
    "VGG19_path = 'models/vgg19-model.pth'"
   ],
   "metadata": {
    "collapsed": false,
    "pycharm": {
     "name": "#%%\n"
    }
   }
  },
  {
   "cell_type": "markdown",
   "source": [
    "### work with images"
   ],
   "metadata": {
    "collapsed": false,
    "pycharm": {
     "name": "#%% md\n"
    }
   }
  },
  {
   "cell_type": "code",
   "execution_count": 5,
   "outputs": [],
   "source": [
    "# Load image file\n",
    "def load_image(path):\n",
    "    # Images loaded as BGR\n",
    "    img = cv2.imread(path)\n",
    "    return img\n",
    "\n",
    "# Show image\n",
    "def show_image(img):\n",
    "    # Convert from BGR to RGB\n",
    "    img = cv2.cvtColor(img, cv2.COLOR_BGR2RGB)\n",
    "\n",
    "    # imshow() only accepts float [0,1] or int [0,255]\n",
    "    img = np.array(img/255).clip(0,1)\n",
    "\n",
    "    plt.figure(figsize=(8, 4))\n",
    "    plt.imshow(img)\n",
    "    plt.show()\n",
    "\n",
    "# Save Image\n",
    "def save_image(img, name):\n",
    "    img = img.clip(0, 255)\n",
    "    cv2.imwrite('images\\out\\saved_' + str(name) + '.png', img)\n",
    "\n",
    "# Preprocessing\n",
    "def img_to_tensor(img):\n",
    "    H, W, C = img.shape\n",
    "    i2t_trans = transforms.Compose([\n",
    "        transforms.ToPILImage(),\n",
    "        transforms.ToTensor()\n",
    "    ])\n",
    "\n",
    "    # Normalize\n",
    "    normalize_t = transforms.Normalize([103.939, 116.779, 123.68],[1,1,1])\n",
    "    tensor = normalize_t(i2t_trans(img)*255)\n",
    "\n",
    "    tensor = tensor.unsqueeze(dim=0)\n",
    "    return tensor\n",
    "\n",
    "def tensor_to_img(tensor):\n",
    "    # Inverse norm\n",
    "    t2i_trans = transforms.Compose([\n",
    "        transforms.Normalize([-103.939, -116.779, -123.68],[1,1,1])])\n",
    "\n",
    "    tensor = tensor.squeeze()\n",
    "    img = t2i_trans(tensor)\n",
    "    img = img.cpu().numpy()\n",
    "\n",
    "    img = img.transpose(1, 2, 0)\n",
    "    return img"
   ],
   "metadata": {
    "collapsed": false,
    "pycharm": {
     "name": "#%%\n"
    }
   }
  },
  {
   "cell_type": "code",
   "execution_count": null,
   "outputs": [],
   "source": [
    "# Load Images\n",
    "content_img = load_image(content_img_path)\n",
    "style_img = load_image(style_img_path)\n",
    "\n",
    "# Show Images\n",
    "show_image(content_img)\n",
    "show_image(style_img)"
   ],
   "metadata": {
    "collapsed": false,
    "pycharm": {
     "name": "#%%\n"
    }
   }
  }
 ],
 "metadata": {
  "kernelspec": {
   "display_name": "Python 3",
   "language": "python",
   "name": "python3"
  },
  "language_info": {
   "codemirror_mode": {
    "name": "ipython",
    "version": 2
   },
   "file_extension": ".py",
   "mimetype": "text/x-python",
   "name": "python",
   "nbconvert_exporter": "python",
   "pygments_lexer": "ipython2",
   "version": "2.7.6"
  }
 },
 "nbformat": 4,
 "nbformat_minor": 0
}